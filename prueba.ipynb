{
 "cells": [
  {
   "cell_type": "markdown",
   "metadata": {},
   "source": [
    "# Explicación de las señales senoidales\n",
    "\n",
    "Esta es la introducción, debo mencionar que es una señal senoidal y cuál es su modelo matemático, debo mencionar cuales son sus parámetros y cuál es su variable independiente. Explicar como el notebook debe usarse mediante la modificación de los parametros de la señal senoidal. "
   ]
  }
 ],
 "metadata": {
  "kernelspec": {
   "display_name": "Python 3.11.0 64-bit",
   "language": "python",
   "name": "python3"
  },
  "language_info": {
   "name": "python",
   "version": "3.11.0"
  },
  "orig_nbformat": 4,
  "vscode": {
   "interpreter": {
    "hash": "78319fa90fd02687c992b5675b1c89d2266e21a60ecfa75251d5cd3b364dfc53"
   }
  }
 },
 "nbformat": 4,
 "nbformat_minor": 2
}
